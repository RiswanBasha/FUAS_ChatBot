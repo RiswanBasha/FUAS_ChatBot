{
 "cells": [
  {
   "cell_type": "code",
   "execution_count": 1,
   "id": "1d274ade-ea7f-40c8-b1b2-dbeec92607f0",
   "metadata": {},
   "outputs": [
    {
     "data": {
      "text/plain": [
       "True"
      ]
     },
     "execution_count": 1,
     "metadata": {},
     "output_type": "execute_result"
    }
   ],
   "source": [
    "import os\n",
    "import streamlit as st\n",
    "import pickle\n",
    "import time\n",
    "from langchain_community.llms import OpenAI\n",
    "from langchain.chains import RetrievalQAWithSourcesChain\n",
    "from langchain.text_splitter import RecursiveCharacterTextSplitter\n",
    "from langchain_community.document_loaders import UnstructuredURLLoader\n",
    "from langchain_openai import OpenAIEmbeddings\n",
    "from langchain_community.vectorstores import FAISS\n",
    "from dotenv import load_dotenv\n",
    "import pandas as pd\n",
    "import warnings\n",
    "warnings.filterwarnings(\"ignore\")\n",
    "#load the environmal variables\n",
    "load_dotenv()"
   ]
  },
  {
   "cell_type": "code",
   "execution_count": 7,
   "id": "bfaf138a-cb64-4917-8840-8d49126f5c5a",
   "metadata": {},
   "outputs": [
    {
     "data": {
      "text/plain": [
       "1099"
      ]
     },
     "execution_count": 7,
     "metadata": {},
     "output_type": "execute_result"
    }
   ],
   "source": [
    "open_api_key = os.getenv(\"OPEN_API_KEY\")\n",
    "\n",
    "llm = OpenAI()\n",
    "\n",
    "df = pd.read_csv(\"scrapped_data.csv\")\n",
    "\n",
    "urls=[]\n",
    "\n",
    "for i in df['URL']:\n",
    "    if i[:4] == 'http':\n",
    "        urls.append(i)"
   ]
  },
  {
   "cell_type": "code",
   "execution_count": 9,
   "id": "76348a9f-843f-4930-81a9-45ca53230318",
   "metadata": {},
   "outputs": [
    {
     "data": {
      "text/plain": [
       "1099"
      ]
     },
     "execution_count": 9,
     "metadata": {},
     "output_type": "execute_result"
    }
   ],
   "source": [
    "loaders  = UnstructuredURLLoader(urls= urls)\n",
    "\n",
    "data = loaders.load()\n",
    "len(data)"
   ]
  },
  {
   "cell_type": "code",
   "execution_count": 10,
   "id": "2ad11f1b-59f4-4865-848d-b5aeba712d4b",
   "metadata": {},
   "outputs": [
    {
     "data": {
      "text/plain": [
       "Document(page_content='The library\\n\\nCampus IT\\n\\nCampus IT\\n\\nEquality and diversity\\n\\n(German only)\\n\\nEquality and diversity\\n\\nWebsite editorial team,\\n\\nID:\\xa01,\\n\\nlast updated on:\\xa004.02.2024\\n\\nAdmissions\\n\\nDegree programs\\n\\nStudent Advisory Center\\n\\nBachelor programs\\n\\nMaster programs\\n\\nInternational Office\\n\\nResearch\\n\\nResearch\\n\\nCenters and institutes\\n\\nDoctoral Studies Affairs\\n\\nAbout us\\n\\nFaculty 1\\n\\nFaculty 2: Computer Science and Engineering\\n\\nFaculty 3: Business and Law\\n\\nFaculty 4: Social Work and Health\\n\\nOfficial notices\\n\\nThe library\\n\\nCulture on and off campus\\n\\nCampusSport\\n\\nLanguage Center\\n\\nEquality and diversity\\n\\nFurther education and lifelong learning\\n\\nKompetenzCampus\\n\\nInquiries\\n\\nInformation center of Frankfurt UAS\\n\\nPhone: +49 69 1533-0\\n\\ninfo-center(at)fra-uas.remove-this.de\\n\\nTo the customer center\\n\\nInfo-Center\\n\\nAddress\\n\\nFrankfurt University of Applied Sciences\\n\\nNibelungenplatz 1\\n\\nD-60318 Frankfurt am Main\\n\\nFax: +49 69 1533-2400\\n\\npost(at)fra-uas.remove-this.de\\n\\nMap and Directions\\n\\nMap and directions', metadata={'source': 'https://www.frankfurt-university.de/en/'})"
      ]
     },
     "execution_count": 10,
     "metadata": {},
     "output_type": "execute_result"
    }
   ],
   "source": [
    "text_splitter = RecursiveCharacterTextSplitter(\n",
    "        chunk_size=1000,\n",
    "        chunk_overlap=200,\n",
    ")\n",
    "\n",
    "docs = text_splitter.split_documents(data)\n",
    "docs[3]"
   ]
  },
  {
   "cell_type": "code",
   "execution_count": 19,
   "id": "07f3e839-49c8-4949-98d8-75a7d18fcf2d",
   "metadata": {},
   "outputs": [],
   "source": [
    "embeddings = OpenAIEmbeddings()\n",
    "\n",
    "vector_db = FAISS.from_documents(docs,embeddings)\n"
   ]
  },
  {
   "cell_type": "code",
   "execution_count": 28,
   "id": "07b6af7b-b34b-4f3e-b46b-771e71d795c1",
   "metadata": {},
   "outputs": [],
   "source": [
    "import faiss\n",
    "# Save the FAISS index to a file\n",
    "faiss.write_index(vector_db.index, \"faiss_index.bin\")"
   ]
  },
  {
   "cell_type": "code",
   "execution_count": 29,
   "id": "df4ea3e9-e32c-4db3-a3c0-285084cab27f",
   "metadata": {},
   "outputs": [
    {
     "ename": "FileNotFoundError",
     "evalue": "[Errno 2] No such file or directory: 'Create_Vector.ipynb'",
     "output_type": "error",
     "traceback": [
      "\u001b[1;31m---------------------------------------------------------------------------\u001b[0m",
      "\u001b[1;31mFileNotFoundError\u001b[0m                         Traceback (most recent call last)",
      "Cell \u001b[1;32mIn[29], line 5\u001b[0m\n\u001b[0;32m      2\u001b[0m \u001b[38;5;28;01mfrom\u001b[39;00m \u001b[38;5;21;01mnbconvert\u001b[39;00m \u001b[38;5;28;01mimport\u001b[39;00m PythonExporter\n\u001b[0;32m      4\u001b[0m \u001b[38;5;66;03m# Load the notebook\u001b[39;00m\n\u001b[1;32m----> 5\u001b[0m \u001b[38;5;28;01mwith\u001b[39;00m \u001b[38;5;28;43mopen\u001b[39;49m\u001b[43m(\u001b[49m\u001b[38;5;124;43m\"\u001b[39;49m\u001b[38;5;124;43mCreate_Vector.ipynb\u001b[39;49m\u001b[38;5;124;43m\"\u001b[39;49m\u001b[43m,\u001b[49m\u001b[43m \u001b[49m\u001b[38;5;124;43m\"\u001b[39;49m\u001b[38;5;124;43mr\u001b[39;49m\u001b[38;5;124;43m\"\u001b[39;49m\u001b[43m)\u001b[49m \u001b[38;5;28;01mas\u001b[39;00m f:\n\u001b[0;32m      6\u001b[0m     notebook \u001b[38;5;241m=\u001b[39m nbformat\u001b[38;5;241m.\u001b[39mread(f, as_version\u001b[38;5;241m=\u001b[39m\u001b[38;5;241m4\u001b[39m)\n\u001b[0;32m      8\u001b[0m \u001b[38;5;66;03m# Convert the notebook to a Python script\u001b[39;00m\n",
      "File \u001b[1;32m~\\anaconda3\\envs\\myenv\\lib\\site-packages\\IPython\\core\\interactiveshell.py:284\u001b[0m, in \u001b[0;36m_modified_open\u001b[1;34m(file, *args, **kwargs)\u001b[0m\n\u001b[0;32m    277\u001b[0m \u001b[38;5;28;01mif\u001b[39;00m file \u001b[38;5;129;01min\u001b[39;00m {\u001b[38;5;241m0\u001b[39m, \u001b[38;5;241m1\u001b[39m, \u001b[38;5;241m2\u001b[39m}:\n\u001b[0;32m    278\u001b[0m     \u001b[38;5;28;01mraise\u001b[39;00m \u001b[38;5;167;01mValueError\u001b[39;00m(\n\u001b[0;32m    279\u001b[0m         \u001b[38;5;124mf\u001b[39m\u001b[38;5;124m\"\u001b[39m\u001b[38;5;124mIPython won\u001b[39m\u001b[38;5;124m'\u001b[39m\u001b[38;5;124mt let you open fd=\u001b[39m\u001b[38;5;132;01m{\u001b[39;00mfile\u001b[38;5;132;01m}\u001b[39;00m\u001b[38;5;124m by default \u001b[39m\u001b[38;5;124m\"\u001b[39m\n\u001b[0;32m    280\u001b[0m         \u001b[38;5;124m\"\u001b[39m\u001b[38;5;124mas it is likely to crash IPython. If you know what you are doing, \u001b[39m\u001b[38;5;124m\"\u001b[39m\n\u001b[0;32m    281\u001b[0m         \u001b[38;5;124m\"\u001b[39m\u001b[38;5;124myou can use builtins\u001b[39m\u001b[38;5;124m'\u001b[39m\u001b[38;5;124m open.\u001b[39m\u001b[38;5;124m\"\u001b[39m\n\u001b[0;32m    282\u001b[0m     )\n\u001b[1;32m--> 284\u001b[0m \u001b[38;5;28;01mreturn\u001b[39;00m \u001b[43mio_open\u001b[49m\u001b[43m(\u001b[49m\u001b[43mfile\u001b[49m\u001b[43m,\u001b[49m\u001b[43m \u001b[49m\u001b[38;5;241;43m*\u001b[39;49m\u001b[43margs\u001b[49m\u001b[43m,\u001b[49m\u001b[43m \u001b[49m\u001b[38;5;241;43m*\u001b[39;49m\u001b[38;5;241;43m*\u001b[39;49m\u001b[43mkwargs\u001b[49m\u001b[43m)\u001b[49m\n",
      "\u001b[1;31mFileNotFoundError\u001b[0m: [Errno 2] No such file or directory: 'Create_Vector.ipynb'"
     ]
    }
   ],
   "source": [
    "import nbformat\n",
    "from nbconvert import PythonExporter\n",
    "\n",
    "# Load the notebook\n",
    "with open(\"CreateVector_FAISS.ipynb\", \"r\") as f:\n",
    "    notebook = nbformat.read(f, as_version=4)\n",
    "\n",
    "# Convert the notebook to a Python script\n",
    "python_exporter = PythonExporter()\n",
    "python_script, _ = python_exporter.from_notebook_node(notebook)\n",
    "\n",
    "# Save the Python script\n",
    "with open(\"CreateVector_FAISS.py\", \"w\") as f:\n",
    "    f.write(python_script)"
   ]
  },
  {
   "cell_type": "raw",
   "id": "578e2373-5b2d-4ff6-853e-9b5823aa3803",
   "metadata": {},
   "source": []
  }
 ],
 "metadata": {
  "kernelspec": {
   "display_name": "Python 3 (ipykernel)",
   "language": "python",
   "name": "python3"
  },
  "language_info": {
   "codemirror_mode": {
    "name": "ipython",
    "version": 3
   },
   "file_extension": ".py",
   "mimetype": "text/x-python",
   "name": "python",
   "nbconvert_exporter": "python",
   "pygments_lexer": "ipython3",
   "version": "3.8.19"
  }
 },
 "nbformat": 4,
 "nbformat_minor": 5
}
