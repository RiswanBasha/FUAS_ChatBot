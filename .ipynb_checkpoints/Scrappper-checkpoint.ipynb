{
 "cells": [
  {
   "cell_type": "code",
   "execution_count": 1,
   "id": "e935fc85-5913-400c-8e57-d135478343d5",
   "metadata": {},
   "outputs": [
    {
     "name": "stdout",
     "output_type": "stream",
     "text": [
      "a\n"
     ]
    }
   ],
   "source": [
    "print(\"a\")"
   ]
  },
  {
   "cell_type": "code",
   "execution_count": 5,
   "id": "e99e28d2-b868-4dbf-ab5a-7e4528b7918d",
   "metadata": {},
   "outputs": [],
   "source": [
    "import pandas as pd\n",
    "import numpy as np\n",
    "from bs4 import BeautifulSoup\n",
    "import requests\n",
    "\n",
    "\n",
    "import spacy\n",
    "nlp = spacy.load(\"en_core_web_sm\")\n",
    "\n",
    "import time\n",
    "import datetime\n",
    "import csv"
   ]
  },
  {
   "cell_type": "code",
   "execution_count": 9,
   "id": "7e0f3ddd-3017-4f1e-a2a8-e9a87334c6de",
   "metadata": {},
   "outputs": [
    {
     "name": "stdout",
     "output_type": "stream",
     "text": [
      "Found 1100 URLs in the sitemap.\n",
      "Processed https://www.frankfurt-university.de/en/\n",
      "Processed https://www.frankfurt-university.de/en/studies/\n",
      "Processed https://www.frankfurt-university.de/en/studies/new-arrivals-at-frankfurt-uas/\n",
      "Processed https://www.frankfurt-university.de/en/studies/new-arrivals-at-frankfurt-uas/orientation-on-campus/\n",
      "Processed https://www.frankfurt-university.de/en/studies/new-arrivals-at-frankfurt-uas/program-for-tutor-programs/\n",
      "Processed https://www.frankfurt-university.de/en/studies/new-arrivals-at-frankfurt-uas/program-for-tutor-programs/list-of-all-programs/\n",
      "Processed https://www.frankfurt-university.de/en/studies/new-arrivals-at-frankfurt-uas/info-pages-of-the-faculties-and-student-representatives/\n",
      "Processed https://www.frankfurt-university.de/en/studies/new-arrivals-at-frankfurt-uas/beginning-your-studies/\n",
      "Processed https://www.frankfurt-university.de/en/studies/new-arrivals-at-frankfurt-uas/ese-infomarket/\n",
      "Processed https://www.frankfurt-university.de/en/studies/info-center/\n"
     ]
    }
   ],
   "source": [
    "def fetch_sitemap(sitemap_url):\n",
    "    response = requests.get(sitemap_url)\n",
    "    if response.status_code == 200:\n",
    "        return response.text\n",
    "    else:\n",
    "        print(\"Failed to retrieve the sitemap\")\n",
    "        return None\n",
    "\n",
    "def parse_sitemap(sitemap_content):\n",
    "    soup = BeautifulSoup(sitemap_content, 'xml')\n",
    "    urls = [loc.text for loc in soup.find_all('loc')]\n",
    "    return urls\n",
    "\n",
    "def fetch_page_content(url):\n",
    "    try:\n",
    "        page_response = requests.get(url)\n",
    "        if page_response.status_code == 200:\n",
    "            return page_response.text\n",
    "        else:\n",
    "            print(f\"Failed to retrieve {url}\")\n",
    "            return None\n",
    "    except Exception as e:\n",
    "        print(f\"Error fetching {url}: {e}\")\n",
    "        return None\n",
    "\n",
    "def parse_page_content(html_content):\n",
    "    page_soup = BeautifulSoup(html_content, 'html.parser')\n",
    "    for tag in page_soup.find_all(['header', 'nav', 'footer', 'script', 'style']):\n",
    "        tag.decompose()\n",
    "    text_content = page_soup.get_text(separator=' ', strip=True)\n",
    "    return text_content\n",
    "\n",
    "def main():\n",
    "    sitemap_url = \"https://www.frankfurt-university.de/en/sitemap.xml\"\n",
    "    sitemap_content = fetch_sitemap(sitemap_url)\n",
    "    \n",
    "    if sitemap_content:\n",
    "        urls = parse_sitemap(sitemap_content)\n",
    "        print(f\"Found {len(urls)} URLs in the sitemap.\")\n",
    "        \n",
    "        # Open a CSV file for writing\n",
    "        with open('scraped_data.csv', 'w', newline='', encoding='utf-8') as csvfile:\n",
    "            fieldnames = ['URL', 'Text', 'Timestamp']\n",
    "            writer = csv.DictWriter(csvfile, fieldnames=fieldnames)\n",
    "            \n",
    "            writer.writeheader()\n",
    "            \n",
    "            for url in urls:  # Limiting to the first 10 URLs for demonstration purposes\n",
    "                html_content = fetch_page_content(url)\n",
    "                if html_content:\n",
    "                    text_content = parse_page_content(html_content)\n",
    "                    timestamp = pd.to_datetime(datetime.datetime.now())\n",
    "                    writer.writerow({'URL': url, 'Text': text_content, 'Timestamp': timestamp})\n",
    "                    print(f\"Processed {url}\")\n",
    "                    time.sleep(1)  # Be polite and do not overwhelm the server\n",
    "\n",
    "if __name__ == \"__main__\":\n",
    "    main()"
   ]
  },
  {
   "cell_type": "code",
   "execution_count": null,
   "id": "67785d3b-b045-461d-9a9e-acc97ca39ac5",
   "metadata": {},
   "outputs": [],
   "source": []
  },
  {
   "cell_type": "code",
   "execution_count": null,
   "id": "ec4a7361-db62-4cce-9148-4add18715dc2",
   "metadata": {},
   "outputs": [],
   "source": []
  }
 ],
 "metadata": {
  "kernelspec": {
   "display_name": "Python 3 (ipykernel)",
   "language": "python",
   "name": "python3"
  },
  "language_info": {
   "codemirror_mode": {
    "name": "ipython",
    "version": 3
   },
   "file_extension": ".py",
   "mimetype": "text/x-python",
   "name": "python",
   "nbconvert_exporter": "python",
   "pygments_lexer": "ipython3",
   "version": "3.8.19"
  }
 },
 "nbformat": 4,
 "nbformat_minor": 5
}
